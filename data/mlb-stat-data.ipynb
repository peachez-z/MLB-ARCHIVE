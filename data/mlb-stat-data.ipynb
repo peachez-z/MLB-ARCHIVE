{
 "cells": [
  {
   "cell_type": "code",
   "execution_count": 2,
   "metadata": {},
   "outputs": [
    {
     "name": "stdout",
     "output_type": "stream",
     "text": [
      "3.11.5 (main, Aug 25 2023, 13:19:53) [GCC 9.4.0]\n"
     ]
    }
   ],
   "source": [
    "import statsapi\n",
    "import json\n",
    "import sys\n",
    "print(sys.version)\n"
   ]
  },
  {
   "cell_type": "code",
   "execution_count": null,
   "metadata": {},
   "outputs": [],
   "source": [
    "sched = statsapi.schedule(start_date='07/01/2018',end_date='07/31/2018')\n",
    "print(sched)"
   ]
  },
  {
   "cell_type": "code",
   "execution_count": null,
   "metadata": {},
   "outputs": [],
   "source": [
    "teams = statsapi.lookup_team(\"\", activeStatus=\"Y\", season=None, sportIds=1)\n",
    "for team in teams:\n",
    "    with open(\"teamLookup.json\", \"a\") as f:\n",
    "        f.write(json.dumps(team)+\"\\n\")\n",
    "\n",
    "    \n",
    "    "
   ]
  },
  {
   "cell_type": "code",
   "execution_count": null,
   "metadata": {},
   "outputs": [],
   "source": [
    "today = statsapi.datetime.today().date()\n",
    "\n",
    "schedule = statsapi.schedule(\n",
    "    date=today,\n",
    "    sportId=1\n",
    ")\n",
    "for match in schedule:\n",
    "    with open(\"today_schedule.json\", \"a\") as f:\n",
    "        f.write(json.dumps(match)+\"\\n\")"
   ]
  },
  {
   "cell_type": "code",
   "execution_count": null,
   "metadata": {},
   "outputs": [],
   "source": [
    "#getting all matches in 2022\n",
    "\n",
    "from datetime import date\n",
    "\n",
    "start = date(2022,1,1)\n",
    "end = date(2022,12,31)\n",
    "\n",
    "schedule = statsapi.schedule(\n",
    "    start_date=start,\n",
    "    end_date=end,\n",
    ")\n",
    "\n",
    "for match in schedule:\n",
    "    with open(\"matches2022.json\", \"a\") as f:\n",
    "        f.write(json.dumps(match)+\"\\n\")\n",
    "    \n",
    "    game_id = match.get(\"game_id\", None)\n",
    "    game_linescore = statsapi.get(\"game_linescore\",{\"gamePk\":game_id})\n",
    "    with open(\"linescores2022.json\", \"a\") as f2:\n",
    "        f2.write(json.dumps(game_linescore)+\"\\n\")\n"
   ]
  },
  {
   "cell_type": "code",
   "execution_count": null,
   "metadata": {},
   "outputs": [],
   "source": [
    "year = 2022\n",
    "\n",
    "standings = statsapi.standings_data(\n",
    "    leagueId=\"103,104\",\n",
    "    division=\"all\",\n",
    "    include_wildcard=True,\n",
    "    season=\"2023\"\n",
    ")\n",
    "\n",
    "\n",
    "with open(\"standings2023.json\", \"a\") as f:\n",
    "    f.write(json.dumps(standings)+\"\\n\")"
   ]
  },
  {
   "cell_type": "code",
   "execution_count": null,
   "metadata": {},
   "outputs": [],
   "source": [
    "stat = statsapi.player_stat_data(660271, group=\"[hitting,pitching,fielding]\", type=\"[career,yearByYear]\", sportId=1)\n",
    "with open(\"stat.json\", \"w\") as f:\n",
    "    f.write(json.dumps(stat)+\"\\n\")"
   ]
  },
  {
   "cell_type": "code",
   "execution_count": null,
   "metadata": {},
   "outputs": [],
   "source": [
    "team_stat = (statsapi.get('team_stats', {'teamId':119,'season':2021,'group':'hitting,pitching','stats':'season'}))\n",
    "\n",
    "with open(\"team_stat.json\", \"w\") as f:\n",
    "    f.write(json.dumps(team_stat)+\"\\n\")"
   ]
  },
  {
   "cell_type": "markdown",
   "metadata": {},
   "source": [
    "# 본격적인 데이터 추출"
   ]
  },
  {
   "cell_type": "code",
   "execution_count": null,
   "metadata": {},
   "outputs": [],
   "source": [
    "# 연도별 팀 id 저장\n",
    "for year in range(1876, 2024):\n",
    "    team_ids = []\n",
    "    teams = statsapi.get(\"teams\", {\"season\": year, \"sportId\":1}).get(\"teams\")\n",
    "    for team in teams:\n",
    "        team_id = team[\"id\"]\n",
    "        team_name = team[\"name\"]\n",
    "        team_ids.append({\"id\": team_id, \"name\": team_name})\n",
    "    with open(f\"team_ids/team_ids{year}.json\", \"w\") as f:        \n",
    "        f.write(json.dumps(team_ids))"
   ]
  },
  {
   "cell_type": "code",
   "execution_count": null,
   "metadata": {},
   "outputs": [],
   "source": [
    "# season 기반 team_standing 추출\n",
    "\n",
    "# 1969년 이전은 division이 나눠져 있지 않아서 데이터를 따로 처리해야함.\n",
    "for year in range(1969,2024):\n",
    "    standings = statsapi.standings_data(\n",
    "        leagueId=\"103,104\",\n",
    "        division=\"all\",\n",
    "        include_wildcard=True,\n",
    "        season = year\n",
    "    )\n",
    "    filename = f\"standing{year}.json\"\n",
    "    with open(\"teamstandings/\"+filename, \"a\") as f:\n",
    "        f.write(json.dumps(standings)+\"\\n\")\n",
    "    "
   ]
  },
  {
   "cell_type": "code",
   "execution_count": null,
   "metadata": {},
   "outputs": [],
   "source": [
    "# season별 teamId 기반 team_stat 추출\n",
    "\n",
    "for year in range(2023, 2024):\n",
    "    with open(f\"team_ids/team_ids{year}.json\", \"r\") as f:\n",
    "        teams = json.load(f)\n",
    "        teams_stat = []\n",
    "        for team in teams:\n",
    "            team_id = team[\"id\"]\n",
    "            teams_stat.append(statsapi.get('team_stats', {'teamId':team_id,'season':year,'group':'hitting,pitching,fielding','stats':'season'}))\n",
    "            with open(f\"teamstats/team_stat{year}.json\", \"w\") as f:\n",
    "                f.write(json.dumps(teams_stat))\n",
    "# for year in range(1999, 2024):\n",
    "#     for team in team_ids:\n",
    "#         team_id = team.get(\"id\")\n",
    "#         team_stat = (statsapi.get('team_stats', {'teamId':team_id,'season':year,'group':'hitting,pitching,fielding','stats':'season'}))\n",
    "\n",
    "#         with open(f\"teamstats/team_stat{year}.json\", \"a\") as f:\n",
    "#             f.write(json.dumps(team_stat)+\"\\n\")\n"
   ]
  },
  {
   "cell_type": "code",
   "execution_count": null,
   "metadata": {},
   "outputs": [],
   "source": [
    "# playerId 수집\n",
    "players = statsapi.get(\"sports_players\",{\"sportId\":1,\"season\":2023})\n",
    "with open(f\"test.json\", \"w\") as f:\n",
    "        f.write(json.dumps(players))"
   ]
  },
  {
   "cell_type": "code",
   "execution_count": null,
   "metadata": {},
   "outputs": [],
   "source": [
    "# playerId 기반 "
   ]
  },
  {
   "cell_type": "code",
   "execution_count": null,
   "metadata": {},
   "outputs": [],
   "source": [
    "# matchId 수집\n",
    "from datetime import date\n",
    "\n",
    "for year in range(1901,2024):\n",
    "    start = date(year,1,1)\n",
    "    end = date(year,12,31)\n",
    "\n",
    "    matches = statsapi.schedule(\n",
    "        start_date=start,\n",
    "        end_date=end,\n",
    "        sportId=1\n",
    "    )\n",
    "\n",
    "    match_ids = []\n",
    "    for match in matches:\n",
    "        game_id = match[\"game_id\"]\n",
    "        summary = match[\"summary\"]\n",
    "        match_ids.append({\"game_id\":game_id,\"summary\":summary})\n",
    "    with open(f\"match_ids/match_ids{year}.json\",\"w\") as f:\n",
    "        f.write(json.dumps(match_ids))\n"
   ]
  },
  {
   "cell_type": "code",
   "execution_count": null,
   "metadata": {},
   "outputs": [],
   "source": [
    "import ipyparallel as ipp\n",
    "# request a cluster\n",
    "with ipp.Cluster() as rc:\n",
    "    # get a view on the cluster\n",
    "    view = rc.load_balanced_view()\n",
    "    # submit the tasks\n",
    "    asyncresult = view.map_async(print(\"helloworld\"))\n",
    "    # wait interactively for results\n",
    "    asyncresult.wait_interactive()\n",
    "    # retrieve actual results\n",
    "    result = asyncresult.get()\n",
    "# at this point, the cluster processes have been shutdown"
   ]
  },
  {
   "cell_type": "code",
   "execution_count": null,
   "metadata": {},
   "outputs": [],
   "source": [
    "# matchId별 linescore 수집\n",
    "import json\n",
    "def get_linescores(start, end):\n",
    "    for year in range(start, end):\n",
    "        with open(f\"match_ids/match_ids{year}.json\", \"r\") as f:\n",
    "            match_ids = json.load(f)\n",
    "        \n",
    "        linescores = []\n",
    "\n",
    "        for match_info in match_ids:\n",
    "            game_id = match_info.get(\"game_id\", None)\n",
    "            game_linescore = statsapi.get(\"game_linescore\",{\"gamePk\":game_id})\n",
    "            linescores.append({\"game_id\":game_id,\"linescore\":game_linescore})\n",
    "        with open(f\"linescores/linescores{year}.json\", \"w\") as f2:\n",
    "            f2.write(json.dumps(linescores))"
   ]
  },
  {
   "cell_type": "code",
   "execution_count": null,
   "metadata": {},
   "outputs": [],
   "source": [
    "# matchId별 linescore 수집\n",
    "import json\n",
    "import statsapi\n",
    "\n",
    "for year in range(2006, 2022):\n",
    "    with open(f\"match_ids/match_ids{year}.json\", \"r\") as f:\n",
    "        match_ids = json.load(f)\n",
    "    \n",
    "    linescores = []\n",
    "\n",
    "    for match_info in match_ids:\n",
    "        game_id = match_info.get(\"game_id\", None)\n",
    "        game_linescore = statsapi.get(\"game_linescore\",{\"gamePk\":game_id})\n",
    "        linescores.append({\"game_id\":game_id,\"linescore\":game_linescore})\n",
    "    with open(f\"linescores/linescores{year}.json\", \"w\") as f2:\n",
    "        f2.write(json.dumps(linescores))"
   ]
  },
  {
   "cell_type": "code",
   "execution_count": null,
   "metadata": {},
   "outputs": [],
   "source": [
    "# matchId별 linescore 수집\n",
    "import json\n",
    "import statsapi\n",
    "\n",
    "for year in range(1922, 1930):\n",
    "    with open(f\"match_ids/match_ids{year}.json\", \"r\") as f:\n",
    "        match_ids = json.load(f)\n",
    "    \n",
    "    linescores = []\n",
    "\n",
    "    for match_info in match_ids:\n",
    "        game_id = match_info.get(\"game_id\", None)\n",
    "        game_linescore = statsapi.get(\"game_linescore\",{\"gamePk\":game_id})\n",
    "        linescores.append({\"game_id\":game_id,\"linescore\":game_linescore})\n",
    "    with open(f\"linescores/linescores{year}.json\", \"w\") as f2:\n",
    "        f2.write(json.dumps(linescores))"
   ]
  },
  {
   "cell_type": "code",
   "execution_count": null,
   "metadata": {},
   "outputs": [],
   "source": [
    "# matchId별 linescore 수집\n",
    "import json\n",
    "\n",
    "for year in range(1940, 1950):\n",
    "    with open(f\"match_ids/match_ids{year}.json\", \"r\") as f:\n",
    "        match_ids = json.load(f)\n",
    "    \n",
    "    linescores = []\n",
    "\n",
    "    for match_info in match_ids:\n",
    "        game_id = match_info.get(\"game_id\", None)\n",
    "        game_linescore = statsapi.get(\"game_linescore\",{\"gamePk\":game_id})\n",
    "        linescores.append({\"game_id\":game_id,\"linescore\":game_linescore})\n",
    "    with open(f\"linescores/linescores{year}.json\", \"w\") as f2:\n",
    "        f2.write(json.dumps(linescores))"
   ]
  },
  {
   "cell_type": "code",
   "execution_count": null,
   "metadata": {},
   "outputs": [],
   "source": [
    "# season별 선수 ID 수집\n",
    "import json\n",
    "\n",
    "for year in range(1876, 2023):\n",
    "    players_info = statsapi.get(\"sports_players\",{\"sportId\":1,\"season\":year}).get(\"people\")\n",
    "    players_id = []\n",
    "    for player_info in players_info:\n",
    "        player_id = player_info.get(\"id\",None)\n",
    "        player_name = player_info.get(\"fullName\",None)\n",
    "        players_id.append({\"id\":player_id, \"fullName\":player_name})\n",
    "    with open(f\"players_id/players_id{year}.json\", \"w\") as f:\n",
    "        f.write(json.dumps(players_id))"
   ]
  },
  {
   "cell_type": "code",
   "execution_count": null,
   "metadata": {},
   "outputs": [],
   "source": [
    "all_players_id = set()\n",
    "for year in range(2020,2023):\n",
    "    with open(f\"players_id/players_id{year}.json\", \"r\") as f:\n",
    "        players_id = json.load(f)\n",
    "\n",
    "    for player in players_id:\n",
    "        all_players_id.add(str(player))"
   ]
  },
  {
   "cell_type": "code",
   "execution_count": null,
   "metadata": {},
   "outputs": [],
   "source": [
    "with open(\"all_players.json\", \"w\") as f:\n",
    "    f.write((json.dumps(list(all_players_id))))"
   ]
  },
  {
   "cell_type": "code",
   "execution_count": null,
   "metadata": {},
   "outputs": [],
   "source": [
    "import pandas as pd\n",
    "all_players_id = pd.DataFrame()\n",
    "for year in range(1876,2023):\n",
    "    with open(f\"players_id/players_id{year}.json\", \"r\") as f:\n",
    "        players_id = json.load(f)\n",
    "\n",
    "    players_id_df = pd.DataFrame(players_id)\n",
    "\n",
    "    all_players_id = pd.concat([all_players_id, players_id_df])\n",
    "all_players_id = all_players_id.sort_values(\"id\")\n",
    "all_players_id = all_players_id.reset_index(drop=True)\n",
    "print(all_players_id)\n",
    "\n",
    "all_players_id = all_players_id.drop_duplicates()\n",
    "all_players_id = all_players_id.reset_index(drop=True)\n",
    "print(all_players_id)\n",
    "\n",
    "all_players_id.to_json(\"all_players.json\", orient=\"records\")"
   ]
  },
  {
   "cell_type": "code",
   "execution_count": null,
   "metadata": {},
   "outputs": [],
   "source": [
    "# player__id별\n",
    "import statsapi\n",
    "import json\n",
    "\n",
    "group=\"[hitting,pitching,fielding]\"\n",
    "type=\"[career, season]\"\n",
    "\n",
    "with open(\"all_players.json\", \"r\") as f2:\n",
    "    all_players_id = json.load(f2)\n",
    "\n",
    "players_stat = []\n",
    "for player in all_players_id:\n",
    "    player_id = player[\"id\"]\n",
    "    params = {\n",
    "    \"personId\": player_id,\n",
    "        \"hydrate\": \"stats(group=\"\n",
    "        + group\n",
    "        + \",type=\"\n",
    "        + type\n",
    "        + \",sportId=\"\n",
    "        + str(1)\n",
    "        + \")\",\n",
    "}\n",
    "    player_stat = statsapi.get(\"person\",params)\n",
    "    with open(f\"players_stat/players_stat_{player_id}.json\", \"w\") as f:\n",
    "        f.write(json.dumps(player_stat))"
   ]
  },
  {
   "cell_type": "code",
   "execution_count": 5,
   "metadata": {},
   "outputs": [],
   "source": [
    "def player_stat_data(\n",
    "    personId, group, type, sportId\n",
    "):\n",
    "    \"\"\"Returns a list of current season or career stat data for a given player.\"\"\"\n",
    "    params = {\n",
    "        \"personId\": personId,\n",
    "        \"hydrate\": \"stats(group=\"\n",
    "        + group\n",
    "        + \",type=\"\n",
    "        + type\n",
    "        + \",sportId=\"\n",
    "        + str(sportId)\n",
    "        + \")\",\n",
    "    }\n",
    "    r = statsapi.get(\"person\", params)\n",
    "\n",
    "    stat_groups = []\n",
    "\n",
    "    player = r[\"people\"][0]\n",
    "\n",
    "    return player"
   ]
  },
  {
   "cell_type": "code",
   "execution_count": 7,
   "metadata": {},
   "outputs": [],
   "source": [
    "# player__id별\n",
    "import statsapi\n",
    "import json\n",
    "\n",
    "players_stat = []\n",
    "with open(\"all_players.json\", \"r\") as f2:\n",
    "    players_stat = json.load(f2)\n",
    "for player in players_stat:\n",
    "    player_id = player[\"id\"]\n",
    "    player_stat = player_stat_data(player_id, group=\"[hitting,pitching,fielding]\", type=\"[career,yearByYear]\", sportId=1)\n",
    "    with open(f\"players_stat/players_stat_{player_id}.json\", \"w\") as f:\n",
    "        f.write(json.dumps(player_stat))"
   ]
  },
  {
   "cell_type": "code",
   "execution_count": null,
   "metadata": {},
   "outputs": [],
   "source": [
    "#boxscore collect\n",
    "import statsapi\n",
    "import json\n",
    "\n",
    "for year in range(2023, 1901,-1):\n",
    "    match_ids = []\n",
    "    with open(f\"match_ids/match_ids{year}.json\", \"r\") as f:\n",
    "        match_ids = json.load(f)\n",
    "    \n",
    "    for match in match_ids:\n",
    "        game_id = match[\"game_id\"]\n",
    "        boxscore = statsapi.boxscore_data(game_id, timecode=None)\n",
    "        input ={\"game_id\":game_id, \"boxscore\": boxscore}\n",
    "        with open(f\"boxscores/boxscore_{game_id}.json\", \"w\") as f:\n",
    "            f.write(json.dumps(input))"
   ]
  }
 ],
 "metadata": {
  "kernelspec": {
   "display_name": "data-env",
   "language": "python",
   "name": "python3"
  },
  "language_info": {
   "codemirror_mode": {
    "name": "ipython",
    "version": 3
   },
   "file_extension": ".py",
   "mimetype": "text/x-python",
   "name": "python",
   "nbconvert_exporter": "python",
   "pygments_lexer": "ipython3",
   "version": "3.8.10"
  },
  "orig_nbformat": 4
 },
 "nbformat": 4,
 "nbformat_minor": 2
}
