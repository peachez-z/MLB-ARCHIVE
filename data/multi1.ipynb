{
 "cells": [
  {
   "cell_type": "code",
   "execution_count": 2,
   "metadata": {},
   "outputs": [
    {
     "name": "stdout",
     "output_type": "stream",
     "text": [
      "Collecting MLB-StatsAPI\n",
      "  Using cached MLB_StatsAPI-1.6.2-py3-none-any.whl (30 kB)\n",
      "Collecting requests\n",
      "  Using cached requests-2.31.0-py3-none-any.whl (62 kB)\n",
      "Collecting certifi>=2017.4.17\n",
      "  Using cached certifi-2023.7.22-py3-none-any.whl (158 kB)\n",
      "Collecting charset-normalizer<4,>=2\n",
      "  Downloading charset_normalizer-3.2.0-cp39-cp39-win_amd64.whl (96 kB)\n",
      "Collecting idna<4,>=2.5\n",
      "  Using cached idna-3.4-py3-none-any.whl (61 kB)\n",
      "Collecting urllib3<3,>=1.21.1\n",
      "  Using cached urllib3-2.0.4-py3-none-any.whl (123 kB)\n",
      "Installing collected packages: urllib3, idna, charset-normalizer, certifi, requests, MLB-StatsAPI\n",
      "Successfully installed MLB-StatsAPI-1.6.2 certifi-2023.7.22 charset-normalizer-3.2.0 idna-3.4 requests-2.31.0 urllib3-2.0.4\n",
      "Note: you may need to restart the kernel to use updated packages.\n"
     ]
    },
    {
     "name": "stderr",
     "output_type": "stream",
     "text": [
      "WARNING: You are using pip version 21.1.3; however, version 23.2.1 is available.\n",
      "You should consider upgrading via the 'c:\\Users\\adj07\\AppData\\Local\\Programs\\Python\\Python39\\python.exe -m pip install --upgrade pip' command.\n"
     ]
    }
   ],
   "source": [
    "pip install MLB-StatsAPI"
   ]
  },
  {
   "cell_type": "code",
   "execution_count": null,
   "metadata": {},
   "outputs": [],
   "source": [
    "# matchId별 linescore 수집\n",
    "import json\n",
    "import statsapi\n",
    "\n",
    "for year in range(1920, 1930):\n",
    "    with open(f\"match_ids/match_ids{year}.json\", \"r\") as f:\n",
    "        match_ids = json.load(f)\n",
    "    \n",
    "    linescores = []\n",
    "\n",
    "    for match_info in match_ids:\n",
    "        game_id = match_info.get(\"game_id\", None)\n",
    "        game_linescore = statsapi.get(\"game_linescore\",{\"gamePk\":game_id})\n",
    "        linescores.append({\"game_id\":game_id,\"linescore\":game_linescore})\n",
    "    with open(f\"linescores/linescores{year}.json\", \"w\") as f2:\n",
    "        f2.write(json.dumps(linescores))"
   ]
  },
  {
   "cell_type": "code",
   "execution_count": 4,
   "metadata": {},
   "outputs": [],
   "source": [
    "# matchId별 linescore 수집\n",
    "import json\n",
    "import statsapi\n",
    "\n",
    "def get_linescores(start, end):\n",
    "    for year in range(start, end):\n",
    "        with open(f\"match_ids/match_ids{year}.json\", \"r\") as f:\n",
    "            match_ids = json.load(f)\n",
    "        \n",
    "        linescores = []\n",
    "\n",
    "        for match_info in match_ids:\n",
    "            game_id = match_info.get(\"game_id\", None)\n",
    "            game_linescore = statsapi.get(\"game_linescore\",{\"gamePk\":game_id})\n",
    "            linescores.append({\"game_id\":game_id,\"linescore\":game_linescore})\n",
    "        with open(f\"linescores/linescores{year}.json\", \"w\") as f2:\n",
    "            f2.write(json.dumps(linescores))"
   ]
  },
  {
   "cell_type": "code",
   "execution_count": 5,
   "metadata": {},
   "outputs": [],
   "source": [
    "from concurrent.futures import ProcessPoolExecutor\n",
    "\n",
    "with ProcessPoolExecutor(max_workers=3) as executor:\n",
    "    executor.map(get_linescores(1917,1918))\n",
    "    executor.map(get_linescores(1918,1919))\n",
    "    executor.map(get_linescores(1919,1920))\n",
    "\n"
   ]
  },
  {
   "cell_type": "code",
   "execution_count": null,
   "metadata": {},
   "outputs": [],
   "source": [
    "from concurrent.futures import ProcessPoolExecutor\n",
    "\n",
    "with ProcessPoolExecutor(max_workers=3) as executor:\n",
    "    executor.map(print(\"1\"))\n",
    "    executor.map(print(\"2\"))\n",
    "    executor.map(print(\"3\"))"
   ]
  }
 ],
 "metadata": {
  "kernelspec": {
   "display_name": "Python 3",
   "language": "python",
   "name": "python3"
  },
  "language_info": {
   "codemirror_mode": {
    "name": "ipython",
    "version": 3
   },
   "file_extension": ".py",
   "mimetype": "text/x-python",
   "name": "python",
   "nbconvert_exporter": "python",
   "pygments_lexer": "ipython3",
   "version": "3.9.6"
  },
  "orig_nbformat": 4
 },
 "nbformat": 4,
 "nbformat_minor": 2
}
