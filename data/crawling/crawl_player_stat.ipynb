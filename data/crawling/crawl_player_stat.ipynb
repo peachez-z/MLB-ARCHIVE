{
 "cells": [
  {
   "cell_type": "code",
   "execution_count": null,
   "metadata": {},
   "outputs": [],
   "source": [
    "# player__id별\n",
    "import statsapi\n",
    "import json\n",
    "\n",
    "group=\"[hitting,pitching,fielding]\"\n",
    "type=\"[career, season]\"\n",
    "\n",
    "with open(\"all_players.json\", \"r\") as f2:\n",
    "    all_players_id = json.load(f2)\n",
    "\n",
    "players_stat = []\n",
    "for player in all_players_id:\n",
    "    player_id = player[\"id\"]\n",
    "    params = {\n",
    "    \"personId\": player_id,\n",
    "        \"hydrate\": \"stats(group=\"\n",
    "        + group\n",
    "        + \",type=\"\n",
    "        + type\n",
    "        + \",sportId=\"\n",
    "        + str(1)\n",
    "        + \")\",\n",
    "}\n",
    "    player_stat = statsapi.get(\"person\",params)\n",
    "    with open(f\"players_stat/players_stat_{player_id}.json\", \"w\") as f:\n",
    "        f.write(json.dumps(player_stat))"
   ]
  }
 ],
 "metadata": {
  "kernelspec": {
   "display_name": "test-env",
   "language": "python",
   "name": "test-env"
  },
  "language_info": {
   "codemirror_mode": {
    "name": "ipython",
    "version": 3
   },
   "file_extension": ".py",
   "mimetype": "text/x-python",
   "name": "python",
   "nbconvert_exporter": "python",
   "pygments_lexer": "ipython3",
   "version": "3.11.5"
  },
  "orig_nbformat": 4
 },
 "nbformat": 4,
 "nbformat_minor": 2
}
