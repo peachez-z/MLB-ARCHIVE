from googletrans import Translator

def translate_name(name, target_language):
    translator = Translator()
    translation = translator.translate(name, dest=target_language, src='auto')
    return translation.text

# 번역할 이름과 원하는 언어를 지정합니다.
name_to_translate = "John"
target_language = "ko"  # 번역할 언어, 예: 한국어

# 이름을 번역합니다.
translated_name = translate_name(name_to_translate, target_language)

# 번역된 이름을 출력합니다.
print(f"원래 이름: {name_to_translate}")
print(f"번역된 이름: {translated_name}")
