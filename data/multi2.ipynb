{
 "cells": [
  {
   "cell_type": "code",
   "execution_count": 2,
   "metadata": {},
   "outputs": [
    {
     "ename": "ModuleNotFoundError",
     "evalue": "No module named 'statsapi'",
     "output_type": "error",
     "traceback": [
      "\u001b[1;31m---------------------------------------------------------------------------\u001b[0m",
      "\u001b[1;31mModuleNotFoundError\u001b[0m                       Traceback (most recent call last)",
      "Cell \u001b[1;32mIn[2], line 3\u001b[0m\n\u001b[0;32m      1\u001b[0m \u001b[39m# matchId별 linescore 수집\u001b[39;00m\n\u001b[0;32m      2\u001b[0m \u001b[39mimport\u001b[39;00m \u001b[39mjson\u001b[39;00m\n\u001b[1;32m----> 3\u001b[0m \u001b[39mimport\u001b[39;00m \u001b[39mstatsapi\u001b[39;00m\n\u001b[0;32m      5\u001b[0m \u001b[39mdef\u001b[39;00m \u001b[39mget_linescores\u001b[39m(start, end):\n\u001b[0;32m      6\u001b[0m     \u001b[39mfor\u001b[39;00m year \u001b[39min\u001b[39;00m \u001b[39mrange\u001b[39m(start, end):\n",
      "\u001b[1;31mModuleNotFoundError\u001b[0m: No module named 'statsapi'"
     ]
    }
   ],
   "source": [
    "# matchId별 linescore 수집\n",
    "import json\n",
    "import statsapi\n",
    "\n",
    "def get_linescores(start, end):\n",
    "    for year in range(start, end):\n",
    "        with open(f\"match_ids/match_ids{year}.json\", \"r\") as f:\n",
    "            match_ids = json.load(f)\n",
    "        \n",
    "        linescores = []\n",
    "\n",
    "        for match_info in match_ids:\n",
    "            game_id = match_info.get(\"game_id\", None)\n",
    "            game_linescore = statsapi.get(\"game_linescore\",{\"gamePk\":game_id})\n",
    "            linescores.append({\"game_id\":game_id,\"linescore\":game_linescore})\n",
    "        with open(f\"linescores/linescores{year}.json\", \"w\") as f2:\n",
    "            f2.write(json.dumps(linescores))"
   ]
  },
  {
   "cell_type": "code",
   "execution_count": 5,
   "metadata": {},
   "outputs": [],
   "source": [
    "from concurrent.futures import ProcessPoolExecutor\n",
    "import time\n",
    "with ProcessPoolExecutor(max_workers=3) as executor:\n",
    "    executor.map()\n",
    "    executor.map(time.sleep)\n",
    "    executor.map(time.sleep)\n"
   ]
  },
  {
   "cell_type": "code",
   "execution_count": null,
   "metadata": {},
   "outputs": [],
   "source": []
  }
 ],
 "metadata": {
  "kernelspec": {
   "display_name": "Python 3",
   "language": "python",
   "name": "python3"
  },
  "language_info": {
   "codemirror_mode": {
    "name": "ipython",
    "version": 3
   },
   "file_extension": ".py",
   "mimetype": "text/x-python",
   "name": "python",
   "nbconvert_exporter": "python",
   "pygments_lexer": "ipython3",
   "version": "3.11.4"
  },
  "orig_nbformat": 4
 },
 "nbformat": 4,
 "nbformat_minor": 2
}
